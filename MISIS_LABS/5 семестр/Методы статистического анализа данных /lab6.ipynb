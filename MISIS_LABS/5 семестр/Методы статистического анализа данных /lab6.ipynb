{
 "cells": [
  {
   "cell_type": "markdown",
   "metadata": {},
   "source": [
    "На основании данных таблицы 1 реализовать МНК-алгоритм для \n",
    "оценки параметров линейной модели, описывающей статистическую \n",
    "зависимость количества зарегистрированных преступлений y от факторов xi: \n",
    "x1 – количество безработных, тыс. чел., \n",
    "x2 – средняя заработная плата, руб., \n",
    "x3 – количество людей, состоящих на учете по алкоголизму, тыс. чел., \n",
    "x4 – объем инноваций в области IT, млн. руб., \n",
    "x5 – доля населения с доходами ниже прожиточного минимума, % \n",
    "x6 – количество разводов, тыс. ед. \n",
    "2. Вывести уравнение модели"
   ]
  },
  {
   "cell_type": "markdown",
   "metadata": {},
   "source": [
    "уравнение модели будет иметь вид\n",
    "\n",
    "y = θ_0 + θ_1 * x_1 + θ_2 * x2 + θ_3 * x3 + θ_4 * x4 + θ_5 * x5 + θ_6 * x6\n",
    "\n",
    "необходимо дать оценку параметрам θ_0, θ_1, θ_2, θ_3, θ_4, θ_5, θ_6"
   ]
  },
  {
   "cell_type": "code",
   "execution_count": 4,
   "metadata": {},
   "outputs": [
    {
     "data": {
      "text/html": [
       "<div>\n",
       "<style scoped>\n",
       "    .dataframe tbody tr th:only-of-type {\n",
       "        vertical-align: middle;\n",
       "    }\n",
       "\n",
       "    .dataframe tbody tr th {\n",
       "        vertical-align: top;\n",
       "    }\n",
       "\n",
       "    .dataframe thead th {\n",
       "        text-align: right;\n",
       "    }\n",
       "</style>\n",
       "<table border=\"1\" class=\"dataframe\">\n",
       "  <thead>\n",
       "    <tr style=\"text-align: right;\">\n",
       "      <th></th>\n",
       "      <th>Год</th>\n",
       "      <th>x1</th>\n",
       "      <th>x2</th>\n",
       "      <th>x3</th>\n",
       "      <th>x4</th>\n",
       "      <th>x5</th>\n",
       "      <th>x6</th>\n",
       "      <th>y</th>\n",
       "    </tr>\n",
       "  </thead>\n",
       "  <tbody>\n",
       "    <tr>\n",
       "      <th>0</th>\n",
       "      <td>2011</td>\n",
       "      <td>4922.4</td>\n",
       "      <td>23369</td>\n",
       "      <td>1865.9</td>\n",
       "      <td>24951.2</td>\n",
       "      <td>12.7</td>\n",
       "      <td>669.4</td>\n",
       "      <td>2404.8</td>\n",
       "    </tr>\n",
       "    <tr>\n",
       "      <th>1</th>\n",
       "      <td>2012</td>\n",
       "      <td>4130.7</td>\n",
       "      <td>26629</td>\n",
       "      <td>1807.9</td>\n",
       "      <td>14648.1</td>\n",
       "      <td>10.7</td>\n",
       "      <td>644.1</td>\n",
       "      <td>2302.2</td>\n",
       "    </tr>\n",
       "    <tr>\n",
       "      <th>2</th>\n",
       "      <td>2013</td>\n",
       "      <td>4137.4</td>\n",
       "      <td>29792</td>\n",
       "      <td>1749.5</td>\n",
       "      <td>39558.7</td>\n",
       "      <td>10.8</td>\n",
       "      <td>668.0</td>\n",
       "      <td>2206.2</td>\n",
       "    </tr>\n",
       "    <tr>\n",
       "      <th>3</th>\n",
       "      <td>2014</td>\n",
       "      <td>3889.4</td>\n",
       "      <td>32495</td>\n",
       "      <td>1690.0</td>\n",
       "      <td>32365.0</td>\n",
       "      <td>11.3</td>\n",
       "      <td>693.7</td>\n",
       "      <td>2190.6</td>\n",
       "    </tr>\n",
       "    <tr>\n",
       "      <th>4</th>\n",
       "      <td>2015</td>\n",
       "      <td>4263.9</td>\n",
       "      <td>34030</td>\n",
       "      <td>1577.0</td>\n",
       "      <td>46568.8</td>\n",
       "      <td>13.4</td>\n",
       "      <td>611.6</td>\n",
       "      <td>2388.5</td>\n",
       "    </tr>\n",
       "  </tbody>\n",
       "</table>\n",
       "</div>"
      ],
      "text/plain": [
       "    Год      x1     x2      x3       x4    x5     x6       y\n",
       "0  2011  4922.4  23369  1865.9  24951.2  12.7  669.4  2404.8\n",
       "1  2012  4130.7  26629  1807.9  14648.1  10.7  644.1  2302.2\n",
       "2  2013  4137.4  29792  1749.5  39558.7  10.8  668.0  2206.2\n",
       "3  2014  3889.4  32495  1690.0  32365.0  11.3  693.7  2190.6\n",
       "4  2015  4263.9  34030  1577.0  46568.8  13.4  611.6  2388.5"
      ]
     },
     "execution_count": 4,
     "metadata": {},
     "output_type": "execute_result"
    }
   ],
   "source": [
    "import pandas as pd\n",
    "import numpy as np\n",
    "import matplotlib.pyplot as plt\n",
    "\n",
    "# Исходные данные\n",
    "data = {\n",
    "    'Год': [2011, 2012, 2013, 2014, 2015, 2016, 2017, 2018, 2019, 2020, 2021],\n",
    "    'x1': [4922.4, 4130.7, 4137.4, 3889.4, 4263.9, 4243.5, 3966.5, 3657, 3461.2, 4316, 3624.6],\n",
    "    'x2': [23369, 26629, 29792, 32495, 34030, 36709, 39167, 43724, 47867, 51344, 57244],\n",
    "    'x3': [1865.9, 1807.9, 1749.5, 1690, 1577, 1444.5, 1304.6, 1208.6, 1126.7, 1102.8, 1077.7],\n",
    "    'x4': [24951.2, 14648.1, 39558.7, 32365, 46568.8, 27929.6, 37218.5, 51418.1, 116166.5, 126304.8, 159875.4],\n",
    "    'x5': [12.7, 10.7, 10.8, 11.3, 13.4, 13.2, 12.9, 12.6, 12.3, 12.1, 11],\n",
    "    'x6': [669.4, 644.1, 668, 693.7, 611.6, 608.3, 611.4, 583.9, 620.7, 564.7, 644.2],\n",
    "    'y': [2404.8, 2302.2, 2206.2, 2190.6, 2388.5, 2160.1, 2058.5, 1991.5, 2024.3, 2044.2, 2004.4]\n",
    "}\n",
    "\n",
    "# Создание DataFrame\n",
    "df = pd.DataFrame(data)\n",
    "\n",
    "# Показ первых нескольких строк данных\n",
    "df.head()\n"
   ]
  },
  {
   "cell_type": "code",
   "execution_count": 5,
   "metadata": {},
   "outputs": [],
   "source": [
    "# Зависимая переменная\n",
    "Y = df['y'].values\n",
    "\n",
    "# Независимые переменные\n",
    "X = df[['x1', 'x2', 'x3', 'x4', 'x5', 'x6']].values\n"
   ]
  },
  {
   "cell_type": "code",
   "execution_count": 6,
   "metadata": {},
   "outputs": [
    {
     "data": {
      "text/plain": [
       "Год   -0.856197\n",
       "x1     0.752721\n",
       "x2    -0.842193\n",
       "x3     0.875956\n",
       "x4    -0.635444\n",
       "x5     0.093171\n",
       "x6     0.465709\n",
       "y      1.000000\n",
       "Name: y, dtype: float64"
      ]
     },
     "execution_count": 6,
     "metadata": {},
     "output_type": "execute_result"
    }
   ],
   "source": [
    "# Вычисление корреляций\n",
    "corr_matrix = df.corr()\n",
    "\n",
    "# Вывов матрицы корреляций\n",
    "corr_matrix['y']\n"
   ]
  },
  {
   "cell_type": "code",
   "execution_count": 7,
   "metadata": {},
   "outputs": [
    {
     "data": {
      "text/plain": [
       "array([[1.000000e+00, 4.922400e+03, 2.336900e+04, 1.865900e+03,\n",
       "        2.495120e+04, 1.270000e+01, 6.694000e+02],\n",
       "       [1.000000e+00, 4.130700e+03, 2.662900e+04, 1.807900e+03,\n",
       "        1.464810e+04, 1.070000e+01, 6.441000e+02],\n",
       "       [1.000000e+00, 4.137400e+03, 2.979200e+04, 1.749500e+03,\n",
       "        3.955870e+04, 1.080000e+01, 6.680000e+02],\n",
       "       [1.000000e+00, 3.889400e+03, 3.249500e+04, 1.690000e+03,\n",
       "        3.236500e+04, 1.130000e+01, 6.937000e+02],\n",
       "       [1.000000e+00, 4.263900e+03, 3.403000e+04, 1.577000e+03,\n",
       "        4.656880e+04, 1.340000e+01, 6.116000e+02],\n",
       "       [1.000000e+00, 4.243500e+03, 3.670900e+04, 1.444500e+03,\n",
       "        2.792960e+04, 1.320000e+01, 6.083000e+02],\n",
       "       [1.000000e+00, 3.966500e+03, 3.916700e+04, 1.304600e+03,\n",
       "        3.721850e+04, 1.290000e+01, 6.114000e+02],\n",
       "       [1.000000e+00, 3.657000e+03, 4.372400e+04, 1.208600e+03,\n",
       "        5.141810e+04, 1.260000e+01, 5.839000e+02],\n",
       "       [1.000000e+00, 3.461200e+03, 4.786700e+04, 1.126700e+03,\n",
       "        1.161665e+05, 1.230000e+01, 6.207000e+02],\n",
       "       [1.000000e+00, 4.316000e+03, 5.134400e+04, 1.102800e+03,\n",
       "        1.263048e+05, 1.210000e+01, 5.647000e+02],\n",
       "       [1.000000e+00, 3.624600e+03, 5.724400e+04, 1.077700e+03,\n",
       "        1.598754e+05, 1.100000e+01, 6.442000e+02]])"
      ]
     },
     "execution_count": 7,
     "metadata": {},
     "output_type": "execute_result"
    }
   ],
   "source": [
    "# Добавим столбец единиц для θ_0\n",
    "C = np.hstack([np.ones((X.shape[0], 1)), X])\n",
    "C"
   ]
  },
  {
   "cell_type": "code",
   "execution_count": 8,
   "metadata": {},
   "outputs": [
    {
     "data": {
      "text/plain": [
       "array([ 6.68691295e+01, -8.18896748e-02,  8.72128812e-03,  1.30639160e+00,\n",
       "        2.34638731e-03,  8.63881753e+01, -1.57694240e+00])"
      ]
     },
     "execution_count": 8,
     "metadata": {},
     "output_type": "execute_result"
    }
   ],
   "source": [
    "\n",
    "# Расчет параметров модели θ с использованием формулы МНК\n",
    "theta_mnk = np.linalg.inv(C.T @ C) @ (C.T @ Y)\n",
    "\n",
    "# Вывод значений параметров\n",
    "theta_mnk\n"
   ]
  },
  {
   "cell_type": "code",
   "execution_count": 9,
   "metadata": {},
   "outputs": [
    {
     "data": {
      "text/plain": [
       "array([2405.24902817, 2265.68699925, 2245.83031295, 2197.76975534,\n",
       "       2377.07675352, 2173.2062391 , 2025.55280312, 2015.99419827,\n",
       "       2029.14391194, 2053.06529524, 1986.72470312])"
      ]
     },
     "execution_count": 9,
     "metadata": {},
     "output_type": "execute_result"
    }
   ],
   "source": [
    "# Прогнозные значения\n",
    "y_pred = C @ theta_mnk\n",
    "\n",
    "# Показать прогнозные значения\n",
    "y_pred\n"
   ]
  },
  {
   "cell_type": "code",
   "execution_count": 17,
   "metadata": {},
   "outputs": [
    {
     "name": "stdout",
     "output_type": "stream",
     "text": [
      "Вектор остатков: [ -0.44902817  36.51300075 -39.63031295  -7.16975534  11.42324648\n",
      " -13.1062391   32.94719688 -24.49419827  -4.84391194  -8.86529524\n",
      "  17.67529688]\n",
      "Вектор отклонений от среднего: [ 243.40909091  140.80909091   44.80909091   29.20909091  227.10909091\n",
      "   -1.29090909 -102.89090909 -169.89090909 -137.09090909 -117.19090909\n",
      " -156.99090909]\n"
     ]
    }
   ],
   "source": [
    "# Среднее значение действительных значений y\n",
    "y_mean = np.mean(Y)\n",
    "\n",
    "# Вектор остатков\n",
    "xi = Y - y_pred\n",
    "\n",
    "# Вектор отклонений\n",
    "delta = Y - y_mean\n",
    "\n",
    "# Показать вектора остатков и отклонений\n",
    "print(\"Вектор остатков:\", xi)\n",
    "print(\"Вектор отклонений от среднего:\", delta)\n"
   ]
  },
  {
   "cell_type": "code",
   "execution_count": 11,
   "metadata": {},
   "outputs": [
    {
     "name": "stdout",
     "output_type": "stream",
     "text": [
      "Коэффициент детерминации R^2: 0.9767202712600244\n"
     ]
    }
   ],
   "source": [
    "# Вычисление R^2\n",
    "RSS = xi.T @ xi  # Остаточная сумма квадратов\n",
    "TSS = delta.T @ delta  # Общая сумма квадратов\n",
    "\n",
    "R_squared = 1 - (RSS / TSS)\n",
    "\n",
    "# Вывод коэффициента детерминации\n",
    "print(\"Коэффициент детерминации R^2:\", R_squared)\n"
   ]
  },
  {
   "cell_type": "markdown",
   "metadata": {},
   "source": [
    "задание 3"
   ]
  },
  {
   "cell_type": "code",
   "execution_count": 12,
   "metadata": {},
   "outputs": [],
   "source": [
    "distribution = {23: 1071, 32: 796, 27: 1263, 26: 980, 44: 1032, 49: 1060, 63: 183, 34: 869, 66: 188, 38: 1006, 28: 1113, 35: 676, 46: 677, 62: 139, 22: 944, 31: 1115, 37: 522, 18: 806, 29: 1340, 30: 734, 20: 910, 69: 202, 36: 1198, 25: 1050, 48: 1026, 40: 723, 21: 716, 45: 690, 41: 837, 24: 810, 19: 971, 67: 128, 42: 978, 33: 758, 57: 136, 47: 831, 43: 820, 55: 62, 51: 188, 39: 695, 52: 193, 56: 76, 60: 266, 64: 189, 61: 226, 16: 236, 15: 53, 58: 262, 50: 150, 53: 47, 65: 79, 59: 74, 71: 85, 14: 49, 17: 126, 70: 26, 73: 17, 54: 26}\n",
    "import matplotlib.pyplot as plt\n",
    "\n"
   ]
  },
  {
   "cell_type": "code",
   "execution_count": 26,
   "metadata": {},
   "outputs": [
    {
     "data": {
      "text/html": [
       "<div>\n",
       "<style scoped>\n",
       "    .dataframe tbody tr th:only-of-type {\n",
       "        vertical-align: middle;\n",
       "    }\n",
       "\n",
       "    .dataframe tbody tr th {\n",
       "        vertical-align: top;\n",
       "    }\n",
       "\n",
       "    .dataframe thead th {\n",
       "        text-align: right;\n",
       "    }\n",
       "</style>\n",
       "<table border=\"1\" class=\"dataframe\">\n",
       "  <thead>\n",
       "    <tr style=\"text-align: right;\">\n",
       "      <th></th>\n",
       "      <th>Возраст</th>\n",
       "      <th>Частота</th>\n",
       "      <th>u</th>\n",
       "      <th>v</th>\n",
       "    </tr>\n",
       "  </thead>\n",
       "  <tbody>\n",
       "    <tr>\n",
       "      <th>0</th>\n",
       "      <td>23</td>\n",
       "      <td>1071</td>\n",
       "      <td>529</td>\n",
       "      <td>1228480911</td>\n",
       "    </tr>\n",
       "    <tr>\n",
       "      <th>1</th>\n",
       "      <td>32</td>\n",
       "      <td>796</td>\n",
       "      <td>1024</td>\n",
       "      <td>504358336</td>\n",
       "    </tr>\n",
       "    <tr>\n",
       "      <th>2</th>\n",
       "      <td>27</td>\n",
       "      <td>1263</td>\n",
       "      <td>729</td>\n",
       "      <td>2014698447</td>\n",
       "    </tr>\n",
       "    <tr>\n",
       "      <th>3</th>\n",
       "      <td>26</td>\n",
       "      <td>980</td>\n",
       "      <td>676</td>\n",
       "      <td>941192000</td>\n",
       "    </tr>\n",
       "    <tr>\n",
       "      <th>4</th>\n",
       "      <td>44</td>\n",
       "      <td>1032</td>\n",
       "      <td>1936</td>\n",
       "      <td>1099104768</td>\n",
       "    </tr>\n",
       "  </tbody>\n",
       "</table>\n",
       "</div>"
      ],
      "text/plain": [
       "   Возраст  Частота     u           v\n",
       "0       23     1071   529  1228480911\n",
       "1       32      796  1024   504358336\n",
       "2       27     1263   729  2014698447\n",
       "3       26      980   676   941192000\n",
       "4       44     1032  1936  1099104768"
      ]
     },
     "execution_count": 26,
     "metadata": {},
     "output_type": "execute_result"
    }
   ],
   "source": [
    "df = pd.DataFrame(list(distribution.items()), columns=['Возраст', 'Частота'])\n",
    "\n",
    "# Замена переменных\n",
    "df['u'] = df['Возраст']**2\n",
    "df['v'] = df['Частота']**3\n",
    "\n",
    "# Печать первых строк данных\n",
    "df.head()"
   ]
  },
  {
   "cell_type": "code",
   "execution_count": 27,
   "metadata": {},
   "outputs": [
    {
     "name": "stdout",
     "output_type": "stream",
     "text": [
      "a1 (a): 898794743.9841943\n",
      "b1 (b): -205521.0576237925\n"
     ]
    }
   ],
   "source": [
    "# Среднее значения переменных\n",
    "mean_u = np.mean(df['u'])\n",
    "mean_v = np.mean(df['v'])\n",
    "\n",
    "# Расчет коэффициентов\n",
    "numerator_b = np.sum((df['u'] - mean_u) * (df['v'] - mean_v))\n",
    "denominator_b = np.sum((df['u'] - mean_u) ** 2)\n",
    "b1 = numerator_b / denominator_b\n",
    "\n",
    "a1 = mean_v - b1 * mean_u\n",
    "\n",
    "# Вывод коэффициентов\n",
    "print(\"a1 (a):\", a1)\n",
    "print(\"b1 (b):\", b1)\n"
   ]
  },
  {
   "cell_type": "code",
   "execution_count": 28,
   "metadata": {},
   "outputs": [
    {
     "name": "stdout",
     "output_type": "stream",
     "text": [
      "Коэффициент детерминации R^2: 0.2814451591387731\n"
     ]
    }
   ],
   "source": [
    "# Предсказанные значения v_pred\n",
    "v_pred = b1 * df['u'] + a1\n",
    "\n",
    "# Остаточная сумма квадратов\n",
    "SSR = np.sum((df['v'] - v_pred) ** 2)\n",
    "\n",
    "# Общая сумма квадратов\n",
    "SST = np.sum((df['v'] - mean_v) ** 2)\n",
    "\n",
    "# Коэффициент детерминации\n",
    "R_squared = 1 - (SSR / SST)\n",
    "\n",
    "# Вывод коэффициента детерминации\n",
    "print(\"Коэффициент детерминации R^2:\", R_squared)\n"
   ]
  },
  {
   "cell_type": "code",
   "execution_count": 16,
   "metadata": {},
   "outputs": [
    {
     "name": "stdout",
     "output_type": "stream",
     "text": [
      "Коэффициенты полинома: [ 4.71054800e-02 -6.79009085e+00  2.83642355e+02 -2.62999946e+03]\n"
     ]
    }
   ],
   "source": [
    "# Возраст и частоты из распределения\n",
    "x = df['Возраст']\n",
    "y = df['Частота']\n",
    "\n",
    "coefficients = np.polyfit(x, y, 3)\n",
    "\n",
    "polynomial = np.poly1d(coefficients)\n",
    "\n",
    "x_values = np.linspace(min(x), max(x), 300)\n",
    "y_values = polynomial(x_values)\n",
    "\n",
    "\n",
    "print(\"Коэффициенты полинома:\", coefficients)\n"
   ]
  },
  {
   "cell_type": "code",
   "execution_count": null,
   "metadata": {},
   "outputs": [],
   "source": [
    "# x = df['Возраст'].values\n",
    "# y = df['Частота'].values\n",
    "\n",
    "# X = np.vstack([np.ones(len(x)), x, x**2, x**3]).T\n",
    "\n",
    "# # Решение уравнения\n",
    "# XtX_inv = np.linalg.inv(X.T @ X)\n",
    "# XtY = X.T @ y\n",
    "# C = XtX_inv @ XtY\n",
    "\n",
    "# # коэффициенты полинома\n",
    "# c0, c1, c2, c3 = C\n",
    "# print(f'Коэффициенты полинома: c0 = {c0}, c1 = {c1}, c2 = {c2}, c3 = {c3}')\n"
   ]
  }
 ],
 "metadata": {
  "kernelspec": {
   "display_name": "Python 3",
   "language": "python",
   "name": "python3"
  },
  "language_info": {
   "codemirror_mode": {
    "name": "ipython",
    "version": 3
   },
   "file_extension": ".py",
   "mimetype": "text/x-python",
   "name": "python",
   "nbconvert_exporter": "python",
   "pygments_lexer": "ipython3",
   "version": "3.11.9"
  }
 },
 "nbformat": 4,
 "nbformat_minor": 2
}
